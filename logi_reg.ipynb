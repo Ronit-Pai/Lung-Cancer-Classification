{
  "nbformat": 4,
  "nbformat_minor": 0,
  "metadata": {
    "colab": {
      "provenance": [],
      "include_colab_link": true
    },
    "kernelspec": {
      "name": "python3",
      "display_name": "Python 3"
    },
    "language_info": {
      "name": "python"
    }
  },
  "cells": [
    {
      "cell_type": "markdown",
      "metadata": {
        "id": "view-in-github",
        "colab_type": "text"
      },
      "source": [
        "<a href=\"https://colab.research.google.com/github/Ronit-Pai/Lung-Cancer-Classification/blob/main/logi_reg.ipynb\" target=\"_parent\"><img src=\"https://colab.research.google.com/assets/colab-badge.svg\" alt=\"Open In Colab\"/></a>"
      ]
    },
    {
      "cell_type": "code",
      "execution_count": null,
      "metadata": {
        "colab": {
          "base_uri": "https://localhost:8080/"
        },
        "id": "85owiy8u6-oX",
        "outputId": "041e39d2-fd5f-4515-dfca-c59588f1d67d"
      },
      "outputs": [
        {
          "output_type": "stream",
          "name": "stdout",
          "text": [
            "Training Data Preview:\n",
            "  GENDER  AGE  SMOKING  ...  SWALLOWING DIFFICULTY  CHEST PAIN  LUNG_CANCER\n",
            "0      M   69        1  ...                      2           2          YES\n",
            "1      M   74        2  ...                      2           2          YES\n",
            "2      F   59        1  ...                      1           2           NO\n",
            "3      M   63        2  ...                      2           2           NO\n",
            "4      F   63        1  ...                      1           1           NO\n",
            "\n",
            "[5 rows x 16 columns]\n",
            "\n",
            "Training Features after Encoding:\n",
            "   AGE  SMOKING  YELLOW_FINGERS  ...  SWALLOWING DIFFICULTY  CHEST PAIN  GENDER_M\n",
            "0   69        1               2  ...                      2           2      True\n",
            "1   74        2               1  ...                      2           2      True\n",
            "2   59        1               1  ...                      1           2     False\n",
            "3   63        2               2  ...                      2           2      True\n",
            "4   63        1               2  ...                      1           1     False\n",
            "\n",
            "[5 rows x 15 columns]\n",
            "\n",
            "Model trained successfully on the training data.\n",
            "\n",
            "New Data Preview:\n",
            "  GENDER  AGE  SMOKING  ...  SHORTNESS OF BREATH  SWALLOWING DIFFICULTY  CHEST PAIN\n",
            "0      M   69        1  ...                    2                      2           2\n",
            "1      M   74        2  ...                    2                      2           2\n",
            "2      F   59        1  ...                    2                      1           2\n",
            "3      M   63        2  ...                    1                      2           2\n",
            "4      F   63        1  ...                    2                      1           1\n",
            "\n",
            "[5 rows x 15 columns]\n",
            "\n",
            "New Data Features after Encoding and Reindexing:\n",
            "   AGE  SMOKING  YELLOW_FINGERS  ...  SWALLOWING DIFFICULTY  CHEST PAIN  GENDER_M\n",
            "0   69        1               2  ...                      2           2      True\n",
            "1   74        2               1  ...                      2           2      True\n",
            "2   59        1               1  ...                      1           2     False\n",
            "3   63        2               2  ...                      2           2      True\n",
            "4   63        1               2  ...                      1           1     False\n",
            "\n",
            "[5 rows x 15 columns]\n",
            "\n",
            "Predictions on New Data:\n",
            "    GENDER  AGE  ...  CHEST PAIN  predicted_lung_cancer\n",
            "0        M   69  ...           2                    YES\n",
            "1        M   74  ...           2                    YES\n",
            "2        F   59  ...           2                    YES\n",
            "3        M   63  ...           2                    YES\n",
            "4        F   63  ...           1                     NO\n",
            "..     ...  ...  ...         ...                    ...\n",
            "304      F   56  ...           1                    YES\n",
            "305      M   70  ...           2                    YES\n",
            "306      M   58  ...           2                    YES\n",
            "307      M   67  ...           2                    YES\n",
            "308      M   62  ...           1                    YES\n",
            "\n",
            "[309 rows x 16 columns]\n",
            "Accuracy: 95.23%\n",
            "Precision score: 0.96\n",
            "Recall score: 0.9777777777777777\n",
            "F1 score: 0.9688073394495413\n",
            "MCC score: 0.738323893657588\n",
            "AUROC score: 0.847863247863248\n"
          ]
        }
      ],
      "source": [
        "import pandas as pd\n",
        "from sklearn.preprocessing import StandardScaler\n",
        "from sklearn.linear_model import LogisticRegression\n",
        "from sklearn.metrics import precision_score,recall_score,f1_score,matthews_corrcoef,roc_auc_score,confusion_matrix,classification_report,ConfusionMatrixDisplay\n",
        "import matplotlib.pyplot as plt\n",
        "\n",
        "train_data = pd.read_csv(\"survey lung cancer.csv\")\n",
        "print(\"Training Data Preview:\")\n",
        "print(train_data.head())\n",
        "\n",
        "target_column = 'LUNG_CANCER'\n",
        "if target_column not in train_data.columns:\n",
        "    raise KeyError(f\"Target column '{target_column}' not found in the training data.\")\n",
        "\n",
        "X_train = pd.get_dummies(train_data.drop(target_column, axis=1), drop_first=True)\n",
        "y_train = train_data[target_column]\n",
        "\n",
        "print(\"\\nTraining Features after Encoding:\")\n",
        "print(X_train.head())\n",
        "\n",
        "scaler = StandardScaler()\n",
        "X_train_scaled = scaler.fit_transform(X_train)\n",
        "\n",
        "model = LogisticRegression()\n",
        "model.fit(X_train_scaled, y_train)\n",
        "print(\"\\nModel trained successfully on the training data.\")\n",
        "\n",
        "training_columns = X_train.columns\n",
        "\n",
        "new_data = pd.read_csv(\"predict_data.csv\")\n",
        "print(\"\\nNew Data Preview:\")\n",
        "print(new_data.head())\n",
        "\n",
        "X_new = pd.get_dummies(new_data, drop_first=True)\n",
        "X_new = X_new.reindex(columns=training_columns, fill_value=0)\n",
        "print(\"\\nNew Data Features after Encoding and Reindexing:\")\n",
        "print(X_new.head())\n",
        "\n",
        "X_new_scaled = scaler.transform(X_new)\n",
        "\n",
        "predictions = model.predict(X_new_scaled)\n",
        "new_data['predicted_lung_cancer'] = predictions\n",
        "\n",
        "print(\"\\nPredictions on New Data:\")\n",
        "print(new_data)\n",
        "new_data.to_csv(\"logistic_result.csv\", index=False)\n",
        "\n",
        "predictions = pd.read_csv(\"logistic_result.csv\")\n",
        "original = pd.read_csv(\"survey lung cancer.csv\")\n",
        "\n",
        "\n",
        "merged = pd.merge(\n",
        "    predictions,\n",
        "    original,\n",
        "    on=[\"GENDER\", \"AGE\", \"SMOKING\", \"YELLOW_FINGERS\", \"ANXIETY\", \"PEER_PRESSURE\",\n",
        "        \"CHRONIC DISEASE\", \"FATIGUE \", \"ALLERGY \", \"WHEEZING\", \"ALCOHOL CONSUMING\",\n",
        "        \"COUGHING\", \"SHORTNESS OF BREATH\", \"SWALLOWING DIFFICULTY\", \"CHEST PAIN\"],\n",
        "    suffixes=('_predicted', '_true')\n",
        ")\n",
        "\n",
        "\n",
        "correct = (merged['predicted_lung_cancer'] == merged['LUNG_CANCER']).sum()\n",
        "total = len(merged)\n",
        "accuracy = (correct / total) * 100\n",
        "\n",
        "print(f\"Accuracy: {accuracy:.2f}%\")\n",
        "pred_df = pd.read_csv(\"logistic_result.csv\")\n",
        "pred_df[\"predicted_lung_cancer\"] = pred_df[\"predicted_lung_cancer\"].map({\"YES\": 1, \"NO\": 0})\n",
        "pred_labels = pred_df[\"predicted_lung_cancer\"]\n",
        "true_labels = train_data[\"LUNG_CANCER\"].map({\"YES\": 1, \"NO\": 0})\n",
        "\n",
        "precision_scr = precision_score(true_labels, pred_labels)\n",
        "print(\"Precision score:\", precision_scr)\n",
        "\n",
        "recall_scr = recall_score(true_labels, pred_labels)\n",
        "print(\"Recall score:\", recall_scr)\n",
        "\n",
        "f1_scr = f1_score(true_labels,pred_labels)\n",
        "print(\"F1 score:\", f1_scr)\n",
        "\n",
        "\n",
        "\n",
        "\n",
        "mcc = matthews_corrcoef(true_labels, pred_labels)\n",
        "print(\"MCC score:\", mcc)\n",
        "\n",
        "\n",
        "\n",
        "auroc_scr = roc_auc_score(true_labels, pred_labels)\n",
        "print(\"AUROC score:\", auroc_scr)\n"
      ]
    },
    {
      "cell_type": "code",
      "source": [
        "cm = confusion_matrix(true_labels, pred_labels)\n",
        "print(\"Confusion Matrix:\")\n",
        "print(cm)\n",
        "\n",
        "\n",
        "disp = ConfusionMatrixDisplay(confusion_matrix=cm, display_labels=[\"cancer\",\"no cancer\"])\n",
        "disp.plot(cmap=plt.cm.Blues)\n",
        "plt.title('Confusion Matrix')\n",
        "plt.show()"
      ],
      "metadata": {
        "id": "7K8Ls_yN_Deg",
        "outputId": "7ede6f1f-fc08-4690-c1b5-7b4f0870cd65",
        "colab": {
          "base_uri": "https://localhost:8080/",
          "height": 525
        }
      },
      "execution_count": null,
      "outputs": [
        {
          "output_type": "stream",
          "name": "stdout",
          "text": [
            "Confusion Matrix:\n",
            "[[ 28  11]\n",
            " [  6 264]]\n"
          ]
        },
        {
          "output_type": "display_data",
          "data": {
            "text/plain": [
              "<Figure size 640x480 with 2 Axes>"
            ],
            "image/png": "[encoded data removed]"
          },
          "metadata": {}
        }
      ]
    }
  ]
}