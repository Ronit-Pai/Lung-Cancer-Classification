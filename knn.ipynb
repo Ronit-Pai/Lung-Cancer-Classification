{
  "nbformat": 4,
  "nbformat_minor": 0,
  "metadata": {
    "colab": {
      "provenance": [],
      "include_colab_link": true
    },
    "kernelspec": {
      "name": "python3",
      "display_name": "Python 3"
    },
    "language_info": {
      "name": "python"
    }
  },
  "cells": [
    {
      "cell_type": "markdown",
      "metadata": {
        "id": "view-in-github",
        "colab_type": "text"
      },
      "source": [
        "<a href=\"https://colab.research.google.com/github/Ronit-Pai/Lung-Cancer-Classification/blob/main/knn.ipynb\" target=\"_parent\"><img src=\"https://colab.research.google.com/assets/colab-badge.svg\" alt=\"Open In Colab\"/></a>"
      ]
    },
    {
      "cell_type": "code",
      "source": [
        "import pandas as pd\n",
        "from sklearn.neighbors import KNeighborsClassifier\n",
        "from sklearn.metrics import precision_score, recall_score, f1_score, matthews_corrcoef, roc_auc_score, accuracy_score,confusion_matrix,ConfusionMatrixDisplay\n",
        "from sklearn.model_selection import train_test_split\n",
        "import matplotlib.pyplot as plt\n",
        "\n",
        "train_data = pd.read_csv(\"survey lung cancer.csv\")\n",
        "train_data = train_data.dropna()\n",
        "\n",
        "\n",
        "y = train_data[\"LUNG_CANCER\"].map({\"YES\": 1, \"NO\": 0})\n",
        "\n",
        "\n",
        "X = pd.get_dummies(train_data.drop(\"LUNG_CANCER\", axis=1), drop_first=True)\n",
        "\n",
        "\n",
        "X_train, X_test, y_train, y_test = train_test_split(\n",
        "    X, y, test_size=0.2, random_state=42\n",
        ")\n",
        "\n",
        "\n",
        "model = KNeighborsClassifier(n_neighbors=5)\n",
        "model.fit(X_train, y_train)\n",
        "\n",
        "\n",
        "y_pred = model.predict(X_test)\n",
        "\n",
        "\n",
        "accuracy = accuracy_score(y_test, y_pred) * 100\n",
        "precision_scr = precision_score(y_test, y_pred)\n",
        "recall_scr = recall_score(y_test, y_pred)\n",
        "f1_scr = f1_score(y_test, y_pred)\n",
        "mcc = matthews_corrcoef(y_test, y_pred)\n",
        "auroc_scr = roc_auc_score(y_test, y_pred)\n",
        "\n",
        "\n",
        "print(f\"Accuracy: {accuracy:.2f}%\")\n",
        "print(\"Precision score:\", precision_scr)\n",
        "print(\"Recall score:\", recall_scr)\n",
        "print(\"F1 score:\", f1_scr)\n",
        "print(\"MCC score:\", mcc)\n",
        "print(\"AUROC score:\", auroc_scr)\n",
        "\n",
        "\n",
        "new_data = pd.read_csv(\"predict_data.csv\")\n",
        "new_data = new_data.fillna(0)\n",
        "X_new = pd.get_dummies(new_data, drop_first=True)\n",
        "X_new = X_new.reindex(columns=X.columns, fill_value=0)\n",
        "\n",
        "predictions = model.predict(X_new)\n",
        "new_data['predicted_lung_cancer'] = pd.Series(predictions).map({1: \"YES\", 0: \"NO\"})\n",
        "\n",
        "print(new_data)\n",
        "new_data.to_csv(\"predictions_knn.csv\", index=False)\n",
        "\n",
        "pred_df = pd.read_csv(\"predictions_knn.csv\")\n",
        "pred_df[\"predicted_lung_cancer\"] = pred_df[\"predicted_lung_cancer\"].map({\"YES\": 1, \"NO\": 0})\n",
        "pred_labels = pred_df[\"predicted_lung_cancer\"]\n",
        "true_labels = train_data[\"LUNG_CANCER\"].map({\"YES\": 1, \"NO\": 0})"
      ],
      "metadata": {
        "id": "Jlxzl3u5mRXA",
        "outputId": "6182e402-aaa9-42fb-a0ee-5fc1809f874b",
        "colab": {
          "base_uri": "https://localhost:8080/"
        }
      },
      "execution_count": null,
      "outputs": [
        {
          "output_type": "stream",
          "name": "stdout",
          "text": [
            "Accuracy: 95.16%\n",
            "Precision score: 0.9830508474576272\n",
            "Recall score: 0.9666666666666667\n",
            "F1 score: 0.9747899159663865\n",
            "MCC score: 0.38424725247655517\n",
            "AUROC score: 0.7333333333333334\n",
            "    GENDER  AGE  SMOKING  YELLOW_FINGERS  ANXIETY  PEER_PRESSURE  \\\n",
            "0        M   69        1               2        2              1   \n",
            "1        M   74        2               1        1              1   \n",
            "2        F   59        1               1        1              2   \n",
            "3        M   63        2               2        2              1   \n",
            "4        F   63        1               2        1              1   \n",
            "..     ...  ...      ...             ...      ...            ...   \n",
            "304      F   56        1               1        1              2   \n",
            "305      M   70        2               1        1              1   \n",
            "306      M   58        2               1        1              1   \n",
            "307      M   67        2               1        2              1   \n",
            "308      M   62        1               1        1              2   \n",
            "\n",
            "     CHRONIC DISEASE  FATIGUE   ALLERGY   WHEEZING  ALCOHOL CONSUMING  \\\n",
            "0                  1         2         1         2                  2   \n",
            "1                  2         2         2         1                  1   \n",
            "2                  1         2         1         2                  1   \n",
            "3                  1         1         1         1                  2   \n",
            "4                  1         1         1         2                  1   \n",
            "..               ...       ...       ...       ...                ...   \n",
            "304                2         2         1         1                  2   \n",
            "305                1         2         2         2                  2   \n",
            "306                1         1         2         2                  2   \n",
            "307                1         2         2         1                  2   \n",
            "308                1         2         2         2                  2   \n",
            "\n",
            "     COUGHING  SHORTNESS OF BREATH  SWALLOWING DIFFICULTY  CHEST PAIN  \\\n",
            "0           2                    2                      2           2   \n",
            "1           1                    2                      2           2   \n",
            "2           2                    2                      1           2   \n",
            "3           1                    1                      2           2   \n",
            "4           2                    2                      1           1   \n",
            "..        ...                  ...                    ...         ...   \n",
            "304         2                    2                      2           1   \n",
            "305         2                    2                      1           2   \n",
            "306         2                    1                      1           2   \n",
            "307         2                    2                      1           2   \n",
            "308         1                    1                      2           1   \n",
            "\n",
            "    predicted_lung_cancer  \n",
            "0                     YES  \n",
            "1                     YES  \n",
            "2                      NO  \n",
            "3                     YES  \n",
            "4                     YES  \n",
            "..                    ...  \n",
            "304                   YES  \n",
            "305                   YES  \n",
            "306                   YES  \n",
            "307                   YES  \n",
            "308                   YES  \n",
            "\n",
            "[309 rows x 16 columns]\n"
          ]
        }
      ]
    },
    {
      "cell_type": "code",
      "source": [
        "cm = confusion_matrix(true_labels, pred_labels)\n",
        "print(\"Confusion Matrix:\")\n",
        "print(cm)\n",
        "\n",
        "\n",
        "disp = ConfusionMatrixDisplay(confusion_matrix=cm, display_labels=[\"cancer\",\"no cancer\"])\n",
        "disp.plot(cmap=plt.cm.Blues)\n",
        "plt.title('Confusion Matrix NB')\n",
        "plt.show()"
      ],
      "metadata": {
        "id": "k5WaFy_iZgVT",
        "outputId": "2e8f10de-4db5-4283-d88e-ebe8a4269f8b",
        "colab": {
          "base_uri": "https://localhost:8080/",
          "height": 524
        }
      },
      "execution_count": null,
      "outputs": [
        {
          "output_type": "stream",
          "name": "stdout",
          "text": [
            "Confusion Matrix:\n",
            "[[ 16  23]\n",
            " [  7 263]]\n"
          ]
        },
        {
          "output_type": "display_data",
          "data": {
            "text/plain": [
              "<Figure size 640x480 with 2 Axes>"
            ],
            "image/png": "[encoded data removed]"
          },
          "metadata": {}
        }
      ]
    }
  ]
}