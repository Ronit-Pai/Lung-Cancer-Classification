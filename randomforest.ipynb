{
  "nbformat": 4,
  "nbformat_minor": 0,
  "metadata": {
    "colab": {
      "provenance": [],
      "include_colab_link": true
    },
    "kernelspec": {
      "name": "python3",
      "display_name": "Python 3"
    },
    "language_info": {
      "name": "python"
    }
  },
  "cells": [
    {
      "cell_type": "markdown",
      "metadata": {
        "id": "view-in-github",
        "colab_type": "text"
      },
      "source": [
        "<a href=\"https://colab.research.google.com/github/Ronit-Pai/Lung-Cancer-Classification/blob/main/randomforest.ipynb\" target=\"_parent\"><img src=\"https://colab.research.google.com/assets/colab-badge.svg\" alt=\"Open In Colab\"/></a>"
      ]
    },
    {
      "cell_type": "code",
      "execution_count": null,
      "metadata": {
        "id": "x657BsjuVYCE",
        "colab": {
          "base_uri": "https://localhost:8080/"
        },
        "outputId": "046b7cb1-5048-4237-e8fb-5076f93b5f56"
      },
      "outputs": [
        {
          "output_type": "stream",
          "name": "stdout",
          "text": [
            "    GENDER  AGE  SMOKING  YELLOW_FINGERS  ANXIETY  PEER_PRESSURE  \\\n",
            "0        M   69        1               2        2              1   \n",
            "1        M   74        2               1        1              1   \n",
            "2        F   59        1               1        1              2   \n",
            "3        M   63        2               2        2              1   \n",
            "4        F   63        1               2        1              1   \n",
            "..     ...  ...      ...             ...      ...            ...   \n",
            "304      F   56        1               1        1              2   \n",
            "305      M   70        2               1        1              1   \n",
            "306      M   58        2               1        1              1   \n",
            "307      M   67        2               1        2              1   \n",
            "308      M   62        1               1        1              2   \n",
            "\n",
            "     CHRONIC DISEASE  FATIGUE   ALLERGY   WHEEZING  ALCOHOL CONSUMING  \\\n",
            "0                  1         2         1         2                  2   \n",
            "1                  2         2         2         1                  1   \n",
            "2                  1         2         1         2                  1   \n",
            "3                  1         1         1         1                  2   \n",
            "4                  1         1         1         2                  1   \n",
            "..               ...       ...       ...       ...                ...   \n",
            "304                2         2         1         1                  2   \n",
            "305                1         2         2         2                  2   \n",
            "306                1         1         2         2                  2   \n",
            "307                1         2         2         1                  2   \n",
            "308                1         2         2         2                  2   \n",
            "\n",
            "     COUGHING  SHORTNESS OF BREATH  SWALLOWING DIFFICULTY  CHEST PAIN  \\\n",
            "0           2                    2                      2           2   \n",
            "1           1                    2                      2           2   \n",
            "2           2                    2                      1           2   \n",
            "3           1                    1                      2           2   \n",
            "4           2                    2                      1           1   \n",
            "..        ...                  ...                    ...         ...   \n",
            "304         2                    2                      2           1   \n",
            "305         2                    2                      1           2   \n",
            "306         2                    1                      1           2   \n",
            "307         2                    2                      1           2   \n",
            "308         1                    1                      2           1   \n",
            "\n",
            "    predicted_lung_cancer  \n",
            "0                     YES  \n",
            "1                     YES  \n",
            "2                      NO  \n",
            "3                      NO  \n",
            "4                      NO  \n",
            "..                    ...  \n",
            "304                   YES  \n",
            "305                   YES  \n",
            "306                   YES  \n",
            "307                   YES  \n",
            "308                   YES  \n",
            "\n",
            "[309 rows x 16 columns]\n",
            "Accuracy: 99.47%\n",
            "Precision score: 0.996309963099631\n",
            "F1 score: 0.9981515711645101\n",
            "MCC score: 0.9852733396318932\n",
            "AUROC score: 0.9871794871794871\n",
            "recall score: 1.0\n"
          ]
        }
      ],
      "source": [
        "\n",
        "import pandas as pd\n",
        "from sklearn.ensemble import RandomForestClassifier\n",
        "from sklearn.metrics import precision_score,f1_score,matthews_corrcoef,roc_auc_score,recall_score,confusion_matrix,ConfusionMatrixDisplay\n",
        "import matplotlib.pyplot as plt\n",
        "\n",
        "train_data = pd.read_csv(\"survey lung cancer.csv\")\n",
        "\n",
        "\n",
        "train_data = train_data.dropna()\n",
        "\n",
        "\n",
        "X_train = train_data.drop('LUNG_CANCER', axis=1)\n",
        "y_train = train_data['LUNG_CANCER']\n",
        "\n",
        "\n",
        "X_train = pd.get_dummies(X_train, drop_first=True)\n",
        "\n",
        "\n",
        "model = RandomForestClassifier(random_state=42)\n",
        "model.fit(X_train, y_train)\n",
        "\n",
        "\n",
        "new_data = pd.read_csv(\"predict_data.csv\")\n",
        "\n",
        "\n",
        "new_data = new_data.fillna(0)\n",
        "\n",
        "\n",
        "X_new = pd.get_dummies(new_data, drop_first=True)\n",
        "\n",
        "\n",
        "X_new = X_new.reindex(columns=X_train.columns, fill_value=0)\n",
        "\n",
        "\n",
        "predictions = model.predict(X_new)\n",
        "\n",
        "\n",
        "new_data['predicted_lung_cancer'] = predictions\n",
        "\n",
        "\n",
        "print(new_data)\n",
        "new_data.to_csv(\"predictions_random_forest.csv\", index=False)\n",
        "\n",
        "predictions = pd.read_csv(\"predictions_random_forest.csv\")\n",
        "original = pd.read_csv(\"survey lung cancer.csv\")\n",
        "\n",
        "\n",
        "merged = pd.merge(\n",
        "    predictions,\n",
        "    original,\n",
        "    on=[\"GENDER\", \"AGE\", \"SMOKING\", \"YELLOW_FINGERS\", \"ANXIETY\", \"PEER_PRESSURE\",\n",
        "        \"CHRONIC DISEASE\", \"FATIGUE \", \"ALLERGY \", \"WHEEZING\", \"ALCOHOL CONSUMING\",\n",
        "        \"COUGHING\", \"SHORTNESS OF BREATH\", \"SWALLOWING DIFFICULTY\", \"CHEST PAIN\"],\n",
        "    suffixes=('_predicted', '_true')\n",
        ")\n",
        "\n",
        "\n",
        "correct = (merged['predicted_lung_cancer'] == merged['LUNG_CANCER']).sum()\n",
        "total = len(merged)\n",
        "accuracy = (correct / total) * 100\n",
        "\n",
        "print(f\"Accuracy: {accuracy:.2f}%\")\n",
        "\n",
        "pred_df = pd.read_csv(\"predictions_random_forest.csv\")\n",
        "pred_df[\"predicted_lung_cancer\"] = pred_df[\"predicted_lung_cancer\"].map({\"YES\": 1, \"NO\": 0})\n",
        "pred_labels = pred_df[\"predicted_lung_cancer\"]\n",
        "true_labels = train_data[\"LUNG_CANCER\"].map({\"YES\": 1, \"NO\": 0})\n",
        "\n",
        "precision_scr = precision_score(true_labels, pred_labels)\n",
        "print(\"Precision score:\", precision_scr)\n",
        "\n",
        "f1_scr = f1_score(true_labels,pred_labels)\n",
        "print(\"F1 score:\", f1_scr)\n",
        "\n",
        "mcc = matthews_corrcoef(true_labels, pred_labels)\n",
        "print(\"MCC score:\", mcc)\n",
        "\n",
        "auroc_scr = roc_auc_score(true_labels, pred_labels)\n",
        "print(\"AUROC score:\", auroc_scr)\n",
        "\n",
        "recall_scr = recall_score(true_labels, pred_labels)\n",
        "print(\"recall score:\",recall_scr)\n"
      ]
    },
    {
      "cell_type": "markdown",
      "source": [
        "**Confusion Matrix **\n"
      ],
      "metadata": {
        "id": "B5c0Q9WF28NV"
      }
    },
    {
      "cell_type": "code",
      "source": [
        "cm = confusion_matrix(true_labels, pred_labels)\n",
        "print(\"Confusion Matrix:\")\n",
        "print(cm)\n",
        "\n",
        "\n",
        "disp = ConfusionMatrixDisplay(confusion_matrix=cm, display_labels=[\"cancer\",\"no cancer\"])\n",
        "disp.plot(cmap=plt.cm.Blues)\n",
        "plt.title('Confusion Matrix Random forest classifier')\n",
        "plt.show()"
      ],
      "metadata": {
        "colab": {
          "base_uri": "https://localhost:8080/",
          "height": 525
        },
        "id": "Ei18TzRC3ELG",
        "outputId": "5ca3adef-5d74-476d-b798-0f06e10ceaa8"
      },
      "execution_count": null,
      "outputs": [
        {
          "output_type": "stream",
          "name": "stdout",
          "text": [
            "Confusion Matrix:\n",
            "[[ 38   1]\n",
            " [  0 270]]\n"
          ]
        },
        {
          "output_type": "display_data",
          "data": {
            "text/plain": [
              "<Figure size 640x480 with 2 Axes>"
            ],
            "image/png": "[encoded data removed]"
          },
          "metadata": {}
        }
      ]
    }
  ]
}