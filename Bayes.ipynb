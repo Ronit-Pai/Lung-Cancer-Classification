{
  "nbformat": 4,
  "nbformat_minor": 0,
  "metadata": {
    "colab": {
      "provenance": [],
      "include_colab_link": true
    },
    "kernelspec": {
      "name": "python3",
      "display_name": "Python 3"
    },
    "language_info": {
      "name": "python"
    }
  },
  "cells": [
    {
      "cell_type": "markdown",
      "metadata": {
        "id": "view-in-github",
        "colab_type": "text"
      },
      "source": [
        "<a href=\"https://colab.research.google.com/github/Ronit-Pai/Lung-Cancer-Classification/blob/main/Bayes.ipynb\" target=\"_parent\"><img src=\"https://colab.research.google.com/assets/colab-badge.svg\" alt=\"Open In Colab\"/></a>"
      ]
    },
    {
      "cell_type": "code",
      "execution_count": null,
      "metadata": {
        "colab": {
          "base_uri": "https://localhost:8080/"
        },
        "id": "QT4cmLBs76DQ",
        "outputId": "05f2445c-9b30-4fd9-8082-bec8f0ac7e9e"
      },
      "outputs": [
        {
          "output_type": "stream",
          "name": "stdout",
          "text": [
            "    GENDER  AGE  SMOKING  YELLOW_FINGERS  ANXIETY  PEER_PRESSURE  \\\n",
            "0        M   69        1               2        2              1   \n",
            "1        M   74        2               1        1              1   \n",
            "2        F   59        1               1        1              2   \n",
            "3        M   63        2               2        2              1   \n",
            "4        F   63        1               2        1              1   \n",
            "..     ...  ...      ...             ...      ...            ...   \n",
            "304      F   56        1               1        1              2   \n",
            "305      M   70        2               1        1              1   \n",
            "306      M   58        2               1        1              1   \n",
            "307      M   67        2               1        2              1   \n",
            "308      M   62        1               1        1              2   \n",
            "\n",
            "     CHRONIC DISEASE  FATIGUE   ALLERGY   WHEEZING  ALCOHOL CONSUMING  \\\n",
            "0                  1         2         1         2                  2   \n",
            "1                  2         2         2         1                  1   \n",
            "2                  1         2         1         2                  1   \n",
            "3                  1         1         1         1                  2   \n",
            "4                  1         1         1         2                  1   \n",
            "..               ...       ...       ...       ...                ...   \n",
            "304                2         2         1         1                  2   \n",
            "305                1         2         2         2                  2   \n",
            "306                1         1         2         2                  2   \n",
            "307                1         2         2         1                  2   \n",
            "308                1         2         2         2                  2   \n",
            "\n",
            "     COUGHING  SHORTNESS OF BREATH  SWALLOWING DIFFICULTY  CHEST PAIN  \\\n",
            "0           2                    2                      2           2   \n",
            "1           1                    2                      2           2   \n",
            "2           2                    2                      1           2   \n",
            "3           1                    1                      2           2   \n",
            "4           2                    2                      1           1   \n",
            "..        ...                  ...                    ...         ...   \n",
            "304         2                    2                      2           1   \n",
            "305         2                    2                      1           2   \n",
            "306         2                    1                      1           2   \n",
            "307         2                    2                      1           2   \n",
            "308         1                    1                      2           1   \n",
            "\n",
            "    predicted_lung_cancer  \n",
            "0                     YES  \n",
            "1                     YES  \n",
            "2                     YES  \n",
            "3                     YES  \n",
            "4                      NO  \n",
            "..                    ...  \n",
            "304                   YES  \n",
            "305                   YES  \n",
            "306                   YES  \n",
            "307                   YES  \n",
            "308                   YES  \n",
            "\n",
            "[309 rows x 16 columns]\n",
            "Accuracy: 94.16%\n",
            "Precision score: 0.9494584837545126\n",
            "Recall score: 0.9740740740740741\n",
            "F1 score: 0.9616087751371115\n",
            "MCC score: 0.670416721284863\n",
            "AUROC score: 0.8075498575498574\n"
          ]
        }
      ],
      "source": [
        "import pandas as pd\n",
        "from sklearn.naive_bayes import CategoricalNB\n",
        "from sklearn.metrics import precision_score\n",
        "from sklearn.metrics import recall_score, f1_score\n",
        "from sklearn.metrics import matthews_corrcoef\n",
        "from sklearn.metrics import roc_auc_score,confusion_matrix,ConfusionMatrixDisplay\n",
        "import matplotlib.pyplot as plt\n",
        "train_data = pd.read_csv(\"survey lung cancer.csv\")\n",
        "train_data = train_data.dropna()\n",
        "\n",
        "X_train = train_data.drop('LUNG_CANCER', axis=1)\n",
        "y_train = train_data['LUNG_CANCER']\n",
        "\n",
        "X_train = pd.get_dummies(X_train, drop_first=True)\n",
        "\n",
        "model = CategoricalNB()\n",
        "model.fit(X_train, y_train)\n",
        "\n",
        "new_data = pd.read_csv(\"predict_data.csv\")\n",
        "new_data = new_data.fillna(0)\n",
        "\n",
        "X_new = pd.get_dummies(new_data, drop_first=True)\n",
        "X_new = X_new.reindex(columns=X_train.columns, fill_value=0)\n",
        "\n",
        "predictions = model.predict(X_new)\n",
        "\n",
        "new_data['predicted_lung_cancer'] = predictions\n",
        "\n",
        "print(new_data)\n",
        "new_data.to_csv(\"result_nb.csv\", index=False)\n",
        "\n",
        "predictions = pd.read_csv(\"result_nb.csv\")\n",
        "original = pd.read_csv(\"survey lung cancer.csv\")\n",
        "\n",
        "\n",
        "merged = pd.merge(\n",
        "    predictions,\n",
        "    original,\n",
        "    on=[\"GENDER\", \"AGE\", \"SMOKING\", \"YELLOW_FINGERS\", \"ANXIETY\", \"PEER_PRESSURE\",\n",
        "        \"CHRONIC DISEASE\", \"FATIGUE \", \"ALLERGY \", \"WHEEZING\", \"ALCOHOL CONSUMING\",\n",
        "        \"COUGHING\", \"SHORTNESS OF BREATH\", \"SWALLOWING DIFFICULTY\", \"CHEST PAIN\"],\n",
        "    suffixes=('_predicted', '_true')\n",
        ")\n",
        "\n",
        "\n",
        "correct = (merged['predicted_lung_cancer'] == merged['LUNG_CANCER']).sum()\n",
        "total = len(merged)\n",
        "accuracy = (correct / total) * 100\n",
        "\n",
        "print(f\"Accuracy: {accuracy:.2f}%\")\n",
        "\n",
        "pred_df = pd.read_csv(\"result_nb.csv\")\n",
        "pred_df[\"predicted_lung_cancer\"] = pred_df[\"predicted_lung_cancer\"].map({\"YES\": 1, \"NO\": 0})\n",
        "pred_labels = pred_df[\"predicted_lung_cancer\"]\n",
        "true_labels = train_data[\"LUNG_CANCER\"].map({\"YES\": 1, \"NO\": 0})\n",
        "\n",
        "precision_scr = precision_score(true_labels,pred_labels)\n",
        "print(\"Precision score:\", precision_scr)\n",
        "\n",
        "\n",
        "recall_scr = recall_score(true_labels, pred_labels)\n",
        "print(\"Recall score:\", recall_scr)\n",
        "\n",
        "f1_scr = f1_score(true_labels,pred_labels)\n",
        "print(\"F1 score:\", f1_scr)\n",
        "\n",
        "\n",
        "\n",
        "\n",
        "mcc = matthews_corrcoef(true_labels, pred_labels)\n",
        "print(\"MCC score:\", mcc)\n",
        "\n",
        "\n",
        "\n",
        "auroc_scr = roc_auc_score(true_labels, pred_labels)\n",
        "print(\"AUROC score:\", auroc_scr)"
      ]
    },
    {
      "cell_type": "code",
      "source": [
        "cm = confusion_matrix(true_labels, pred_labels)\n",
        "print(\"Confusion Matrix:\")\n",
        "print(cm)\n",
        "\n",
        "\n",
        "disp = ConfusionMatrixDisplay(confusion_matrix=cm, display_labels=[\"cancer\",\"no cancer\"])\n",
        "disp.plot(cmap=plt.cm.Blues)\n",
        "plt.title('Confusion Matrix NB')\n",
        "plt.show()"
      ],
      "metadata": {
        "colab": {
          "base_uri": "https://localhost:8080/",
          "height": 525
        },
        "id": "msNdVrck_XHA",
        "outputId": "08e18218-c0a6-47e2-890a-704280bdcc72"
      },
      "execution_count": null,
      "outputs": [
        {
          "output_type": "stream",
          "name": "stdout",
          "text": [
            "Confusion Matrix:\n",
            "[[ 25  14]\n",
            " [  7 263]]\n"
          ]
        },
        {
          "output_type": "display_data",
          "data": {
            "text/plain": [
              "<Figure size 640x480 with 2 Axes>"
            ],
            "image/png": "[encoded data removed]"
          },
          "metadata": {}
        }
      ]
    }
  ]
}